{
 "cells": [
  {
   "cell_type": "markdown",
   "id": "4f96df06-540a-4c60-b54c-8db74eb2f17c",
   "metadata": {},
   "source": [
    "# This Lab is to Describe the Dataset"
   ]
  },
  {
   "cell_type": "markdown",
   "id": "bad1fd31-03b4-44c8-94af-77697798ca4d",
   "metadata": {},
   "source": [
    "### Loading image Litle + Label\n",
    "- ASVspoof2017_V2_dev.csv (validation set)\n",
    "- ASVspoof2017_V2_eval.csv (testing set)\n",
    "- ASVspoof2017_V2_train (training set)"
   ]
  },
  {
   "cell_type": "code",
   "execution_count": 3,
   "id": "14ef036c-6b19-4f56-939c-d0c8085c5d2b",
   "metadata": {},
   "outputs": [],
   "source": [
    "import pandas as pd"
   ]
  },
  {
   "cell_type": "code",
   "execution_count": 4,
   "id": "95a3ab7c-1a57-4587-bfb0-44e7973cd55e",
   "metadata": {},
   "outputs": [],
   "source": [
    "df_training = pd.read_csv('ASVspoof2017_V2_train.csv')\n",
    "df_validation = pd.read_csv('ASVspoof2017_V2_dev.csv')\n",
    "df_test = pd.read_csv('ASVspoof2017_V2_eval.csv')"
   ]
  },
  {
   "cell_type": "code",
   "execution_count": 5,
   "id": "76bac587-681b-4ce3-a4fd-deba35bfec8b",
   "metadata": {},
   "outputs": [
    {
     "data": {
      "text/html": [
       "<div>\n",
       "<style scoped>\n",
       "    .dataframe tbody tr th:only-of-type {\n",
       "        vertical-align: middle;\n",
       "    }\n",
       "\n",
       "    .dataframe tbody tr th {\n",
       "        vertical-align: top;\n",
       "    }\n",
       "\n",
       "    .dataframe thead th {\n",
       "        text-align: right;\n",
       "    }\n",
       "</style>\n",
       "<table border=\"1\" class=\"dataframe\">\n",
       "  <thead>\n",
       "    <tr style=\"text-align: right;\">\n",
       "      <th></th>\n",
       "      <th>File</th>\n",
       "      <th>Label</th>\n",
       "      <th>F1</th>\n",
       "      <th>F2</th>\n",
       "      <th>F3</th>\n",
       "      <th>F4</th>\n",
       "      <th>F5</th>\n",
       "    </tr>\n",
       "  </thead>\n",
       "  <tbody>\n",
       "    <tr>\n",
       "      <th>0</th>\n",
       "      <td>T_1000001.wav</td>\n",
       "      <td>genuine</td>\n",
       "      <td>M0002</td>\n",
       "      <td>S05</td>\n",
       "      <td>-</td>\n",
       "      <td>-</td>\n",
       "      <td>-</td>\n",
       "    </tr>\n",
       "    <tr>\n",
       "      <th>1</th>\n",
       "      <td>T_1000002.wav</td>\n",
       "      <td>genuine</td>\n",
       "      <td>M0002</td>\n",
       "      <td>S09</td>\n",
       "      <td>-</td>\n",
       "      <td>-</td>\n",
       "      <td>-</td>\n",
       "    </tr>\n",
       "    <tr>\n",
       "      <th>2</th>\n",
       "      <td>T_1000003.wav</td>\n",
       "      <td>genuine</td>\n",
       "      <td>M0002</td>\n",
       "      <td>S01</td>\n",
       "      <td>-</td>\n",
       "      <td>-</td>\n",
       "      <td>-</td>\n",
       "    </tr>\n",
       "    <tr>\n",
       "      <th>3</th>\n",
       "      <td>T_1000004.wav</td>\n",
       "      <td>genuine</td>\n",
       "      <td>M0002</td>\n",
       "      <td>S10</td>\n",
       "      <td>-</td>\n",
       "      <td>-</td>\n",
       "      <td>-</td>\n",
       "    </tr>\n",
       "    <tr>\n",
       "      <th>4</th>\n",
       "      <td>T_1000005.wav</td>\n",
       "      <td>genuine</td>\n",
       "      <td>M0002</td>\n",
       "      <td>S04</td>\n",
       "      <td>-</td>\n",
       "      <td>-</td>\n",
       "      <td>-</td>\n",
       "    </tr>\n",
       "  </tbody>\n",
       "</table>\n",
       "</div>"
      ],
      "text/plain": [
       "            File    Label     F1   F2 F3 F4 F5\n",
       "0  T_1000001.wav  genuine  M0002  S05  -  -  -\n",
       "1  T_1000002.wav  genuine  M0002  S09  -  -  -\n",
       "2  T_1000003.wav  genuine  M0002  S01  -  -  -\n",
       "3  T_1000004.wav  genuine  M0002  S10  -  -  -\n",
       "4  T_1000005.wav  genuine  M0002  S04  -  -  -"
      ]
     },
     "execution_count": 5,
     "metadata": {},
     "output_type": "execute_result"
    }
   ],
   "source": [
    "df_training.head()"
   ]
  },
  {
   "cell_type": "markdown",
   "id": "4eb9a2b7-1d5f-483b-9144-8e70c3bf360b",
   "metadata": {},
   "source": [
    "# Describe Splits by Totals and Balance"
   ]
  },
  {
   "cell_type": "markdown",
   "id": "a10d60a0-0535-4893-ac6d-c44754837f0a",
   "metadata": {},
   "source": [
    "### Totals per split"
   ]
  },
  {
   "cell_type": "code",
   "execution_count": 23,
   "id": "958e9bff-ac2c-4445-b731-581100636f7c",
   "metadata": {},
   "outputs": [
    {
     "name": "stdout",
     "output_type": "stream",
     "text": [
      "Training set total: 3014\n",
      "Validation set total: 1710\n",
      "Testing set total: 13306\n"
     ]
    }
   ],
   "source": [
    "print(f'Training set total: {df_training.shape[0]}')\n",
    "print(f'Validation set total: {df_validation.shape[0]}')\n",
    "print(f'Testing set total: {df_test.shape[0]}')"
   ]
  },
  {
   "cell_type": "markdown",
   "id": "88b2e8a3-ec1c-4530-bc23-d605e35ffca3",
   "metadata": {},
   "source": [
    "### Training Split Balance"
   ]
  },
  {
   "cell_type": "code",
   "execution_count": 40,
   "id": "4ed3f65a-808a-4b30-897f-24fcbccba5c9",
   "metadata": {},
   "outputs": [
    {
     "name": "stdout",
     "output_type": "stream",
     "text": [
      "Genuine samples (training): 1507\n",
      "Spoof samples (training): 1507\n",
      "Training Set balanced: True\n"
     ]
    }
   ],
   "source": [
    "genuine_training = df_training[df_training['Label']=='genuine'].shape[0]\n",
    "spoof_training = df_training[df_training['Label']=='spoof'].shape[0]\n",
    "\n",
    "print(f'Genuine samples (training): {genuine_training}')\n",
    "print(f'Spoof samples (training): {spoof_training}')\n",
    "\n",
    "balanced = True if genuine_training == spoof_training else False\n",
    "print(f'Training Set balanced: {balanced}')"
   ]
  },
  {
   "cell_type": "markdown",
   "id": "a6f6f89f-f68e-4408-969d-36f509bdd760",
   "metadata": {},
   "source": [
    "### Validation Split Balance"
   ]
  },
  {
   "cell_type": "code",
   "execution_count": 41,
   "id": "780b4fa8-effc-4ec7-80b8-969c5fdbe6c3",
   "metadata": {},
   "outputs": [
    {
     "name": "stdout",
     "output_type": "stream",
     "text": [
      "Genuine samples (validation): 760\n",
      "Spoof samples (validation): 950\n",
      "Validation Set balanced: False\n"
     ]
    }
   ],
   "source": [
    "genuine_validation = df_validation[df_validation['Label']=='genuine'].shape[0]\n",
    "spoof_validation = df_validation[df_validation['Label']=='spoof'].shape[0]\n",
    "\n",
    "print(f'Genuine samples (validation): {genuine_validation}')\n",
    "print(f'Spoof samples (validation): {spoof_validation}')\n",
    "\n",
    "balanced = True if genuine_validation == spoof_validation else False\n",
    "print(f'Validation Set balanced: {balanced}')"
   ]
  },
  {
   "cell_type": "code",
   "execution_count": 42,
   "id": "b5c00773-45b9-4d33-bf84-fcf112118bdc",
   "metadata": {},
   "outputs": [
    {
     "name": "stdout",
     "output_type": "stream",
     "text": [
      "Genuine samples (test): 1298\n",
      "Spoof samples (test): 12008\n",
      "Test set balanced: False\n"
     ]
    }
   ],
   "source": [
    "genuine_test = df_test[df_test['Label']=='genuine'].shape[0]\n",
    "spoof_test = df_test[df_test['Label']=='spoof'].shape[0]\n",
    "\n",
    "\n",
    "print(f'Genuine samples (test): {genuine_test}')\n",
    "print(f'Spoof samples (test): {spoof_test}')\n",
    "\n",
    "balanced = True if genuine_test == spoof_test else False\n",
    "print(f'Test set balanced: {balanced}')"
   ]
  },
  {
   "cell_type": "code",
   "execution_count": null,
   "id": "52486fa8-ab43-4c81-8db9-449fc58b9ec3",
   "metadata": {},
   "outputs": [],
   "source": []
  }
 ],
 "metadata": {
  "kernelspec": {
   "display_name": "Python 3 (ipykernel)",
   "language": "python",
   "name": "python3"
  },
  "language_info": {
   "codemirror_mode": {
    "name": "ipython",
    "version": 3
   },
   "file_extension": ".py",
   "mimetype": "text/x-python",
   "name": "python",
   "nbconvert_exporter": "python",
   "pygments_lexer": "ipython3",
   "version": "3.13.3"
  }
 },
 "nbformat": 4,
 "nbformat_minor": 5
}
