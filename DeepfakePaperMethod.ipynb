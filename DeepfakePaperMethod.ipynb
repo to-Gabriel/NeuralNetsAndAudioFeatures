{
 "cells": [
  {
   "cell_type": "markdown",
   "id": "7af71260",
   "metadata": {},
   "source": [
    "# Imports"
   ]
  },
  {
   "cell_type": "code",
   "execution_count": 1,
   "id": "ba0920eb",
   "metadata": {},
   "outputs": [
    {
     "name": "stderr",
     "output_type": "stream",
     "text": [
      "2025-05-06 08:50:08.748471: I tensorflow/core/platform/cpu_feature_guard.cc:210] This TensorFlow binary is optimized to use available CPU instructions in performance-critical operations.\n",
      "To enable the following instructions: SSE4.1 SSE4.2 AVX AVX2 FMA, in other operations, rebuild TensorFlow with the appropriate compiler flags.\n"
     ]
    }
   ],
   "source": [
    "import librosa\n",
    "import os\n",
    "import tensorflow as tf\n",
    "from tensorflow.keras import layers, models, regularizers, callbacks\n",
    "from tensorflow.keras import backend as K\n",
    "import numpy as np\n",
    "import pandas as pd\n",
    "from sklearn.model_selection import train_test_split\n",
    "from sklearn.metrics import confusion_matrix, classification_report\n",
    "from sklearn.preprocessing import scale\n",
    "import seaborn as sns\n",
    "import matplotlib.pyplot as plt\n",
    "from PIL import Image\n",
    "import io"
   ]
  },
  {
   "cell_type": "markdown",
   "id": "473d21cd",
   "metadata": {},
   "source": [
    "# Load MFCC Preprocessed MFCC Images"
   ]
  },
  {
   "cell_type": "code",
   "execution_count": 9,
   "id": "ec585466",
   "metadata": {},
   "outputs": [],
   "source": [
    "#Function for getting x and y data for a specific kind of dataset\n",
    "#For example, pass in addresses for training csv and mfcc images to get X_train and y_train\n",
    "def load_images_from_csv(csv_path, image_dir):\n",
    "    #Get values from csv\n",
    "    df = pd.read_csv(csv_path)\n",
    "\n",
    "    #For csv, create a new column that has the full path to images\n",
    "    df['filepath'] = df['File'].apply(lambda fname: os.path.join(image_dir, fname.replace('.wav', '.png')))\n",
    "\n",
    "    label_map = {'genuine': 0, 'spoof': 1}\n",
    "    #Create arrays with the addresses and another one with the labels\n",
    "    labels = df['Label'].map(label_map)\n",
    "    images = []\n",
    "    for path in df['filepath']:\n",
    "        img = tf.io.read_file(path)\n",
    "        img = tf.image.decode_png(img, channels=3)  # or 1 for grayscale\n",
    "        img = tf.image.convert_image_dtype(img, tf.float32)  # [0.0, 1.0]\n",
    "        images.append(img.numpy())\n",
    "        \n",
    "    return np.array(images), np.array(labels)     \n",
    "   "
   ]
  },
  {
   "cell_type": "code",
   "execution_count": 10,
   "id": "a6b6d762",
   "metadata": {},
   "outputs": [],
   "source": [
    "X_train, y_train = load_images_from_csv(\n",
    "    '/home/enriq115/dev/research/cs478/FinalProject/Data/ASVspoof2017_V2_train.csv',\n",
    "    '/home/enriq115/dev/research/cs478/FinalProject/Dataset/MFCC/ASVspoof2017_V2_train'\n",
    ")\n",
    "\n",
    "X_test, y_test = load_images_from_csv(\n",
    "    '/home/enriq115/dev/research/cs478/FinalProject/Data/ASVspoof2017_V2_eval.csv',\n",
    "    '/home/enriq115/dev/research/cs478/FinalProject/Dataset/MFCC/ASVspoof2017_V2_eval'\n",
    ")\n",
    "\n",
    "X_val, y_val = load_images_from_csv(\n",
    "    '/home/enriq115/dev/research/cs478/FinalProject/Data/ASVspoof2017_V2_dev.csv',\n",
    "    '/home/enriq115/dev/research/cs478/FinalProject/Dataset/MFCC/ASVspoof2017_V2_dev'\n",
    ")"
   ]
  },
  {
   "cell_type": "markdown",
   "id": "ee306477",
   "metadata": {},
   "source": [
    "# Load Preprocessed Spectrogram Images "
   ]
  },
  {
   "cell_type": "code",
   "execution_count": 2,
   "id": "8787377b",
   "metadata": {},
   "outputs": [],
   "source": [
    "spect_eval_path = '/home/enriq115/dev/research/cs478/FinalProject/spectrogram_images_output/testing'\n",
    "spect_train_path = '/home/enriq115/dev/research/cs478/FinalProject/spectrogram_images_output/training'\n",
    "spect_dev_path = '/home/enriq115/dev/research/cs478/FinalProject/spectrogram_images_output/validation'"
   ]
  },
  {
   "cell_type": "code",
   "execution_count": 3,
   "id": "7482febc",
   "metadata": {},
   "outputs": [
    {
     "name": "stdout",
     "output_type": "stream",
     "text": [
      "Training set: (3014, 200, 200, 3)\n",
      "Validation set: (1710, 200, 200, 3)\n",
      "Test set: (13306, 200, 200, 3)\n",
      "\n",
      "Training set class distribution:\n",
      "  Real: 1507\n",
      "  Fake: 1507\n",
      "\n",
      "Validation set class distribution:\n",
      "  Real: 760\n",
      "  Fake: 950\n",
      "\n",
      "Test set class distribution:\n",
      "  Real: 1298\n",
      "  Fake: 12008\n"
     ]
    }
   ],
   "source": [
    "def load_images_from_folder(folder, label, target_size=(200, 200)):\n",
    "    images = []\n",
    "    labels = []\n",
    "    \n",
    "    # Loop through each file in the folder\n",
    "    for filename in os.listdir(folder):\n",
    "        filepath = os.path.join(folder, filename)\n",
    "        image = Image.open(filepath)\n",
    "        image = image.convert('RGB')\n",
    "        \n",
    "        # high-quality downsampling\n",
    "        image = image.resize(target_size, Image.LANCZOS)\n",
    "        images.append(np.array(image))\n",
    "        labels.append(label)\n",
    "    return images, labels\n",
    "\n",
    "# Initialize lists for train, validation, and test sets\n",
    "X_train, y_train = [], []\n",
    "X_val,   y_val   = [], []\n",
    "X_test,  y_test  = [], []\n",
    "\n",
    "# Process the training data\n",
    "for class_name in ['genuine', 'spoof']:\n",
    "    class_folder = os.path.join(spect_train_path, class_name)\n",
    "    label = 0 if class_name == 'genuine' else 1\n",
    "    imgs, labels = load_images_from_folder(class_folder, label)\n",
    "    X_train.extend(imgs)\n",
    "    y_train.extend(labels)\n",
    "    \n",
    "# Process the validation data\n",
    "for class_name in ['genuine', 'spoof']:\n",
    "    class_folder = os.path.join(spect_dev_path, class_name)\n",
    "    label = 0 if class_name == 'genuine' else 1\n",
    "    imgs, labels = load_images_from_folder(class_folder, label)\n",
    "    X_val.extend(imgs)\n",
    "    y_val.extend(labels)\n",
    "\n",
    "# Process the test data\n",
    "for class_name in ['genuine', 'spoof']:\n",
    "    class_folder = os.path.join(spect_eval_path, class_name)\n",
    "    label = 0 if class_name == 'genuine' else 1\n",
    "    imgs, labels = load_images_from_folder(class_folder, label)\n",
    "    X_test.extend(imgs)\n",
    "    y_test.extend(labels)\n",
    "\n",
    "# Convert lists to numpy arrays\n",
    "X_train = np.array(X_train, dtype='float32') / 255.0\n",
    "y_train = np.array(y_train)\n",
    "X_val   = np.array(X_val,   dtype='float32') / 255.0\n",
    "y_val   = np.array(y_val)\n",
    "X_test  = np.array(X_test,  dtype='float32') / 255.0\n",
    "y_test  = np.array(y_test)\n",
    "\n",
    "# Print shapes\n",
    "print(\"Training set:\", X_train.shape)\n",
    "print(\"Validation set:\", X_val.shape)\n",
    "print(\"Test set:\", X_test.shape)\n",
    "\n",
    "# Print class counts for each split\n",
    "for split_name, labels in [\n",
    "    ('Training', y_train),\n",
    "    ('Validation', y_val),\n",
    "    ('Test', y_test)\n",
    "]:\n",
    "    unique, counts = np.unique(labels, return_counts=True)\n",
    "    print(f\"\\n{split_name} set class distribution:\")\n",
    "    for cls, cnt in zip(unique, counts):\n",
    "        name = 'Real' if cls == 0 else 'Fake'\n",
    "        print(f\"  {name}: {cnt}\")"
   ]
  },
  {
   "cell_type": "code",
   "execution_count": 4,
   "id": "b80bbe33",
   "metadata": {},
   "outputs": [
    {
     "data": {
      "text/plain": [
       "array([0, 0, 0, 0, 0, 0, 0, 1, 1, 1, 1, 1, 1, 1, 1])"
      ]
     },
     "execution_count": 4,
     "metadata": {},
     "output_type": "execute_result"
    }
   ],
   "source": [
    "y_train[1500:1515]"
   ]
  },
  {
   "cell_type": "markdown",
   "id": "0c0734f0",
   "metadata": {},
   "source": [
    "# CNN Model (as accurate as possible)"
   ]
  },
  {
   "cell_type": "code",
   "execution_count": 5,
   "id": "69eaecd5",
   "metadata": {},
   "outputs": [],
   "source": [
    "def create_model():\n",
    "    K.clear_session()\n",
    "    tf.random.set_seed(42) \n",
    "    model = models.Sequential()\n",
    "\n",
    "    #Input Spectrogram/MFCC\n",
    "    model.add(layers.InputLayer(input_shape=(200,200,3)))\n",
    "    \n",
    "    #First 2D Conv Layer and 2d Max Pooling\n",
    "    model.add(layers.Conv2D(filters=16, kernel_size=(3,3), activation='relu'))\n",
    "    model.add(layers.MaxPooling2D(pool_size=(2,2)))\n",
    "\n",
    "    #Second 2d Conv layer followed by Global Max Pooling\n",
    "    model.add(layers.Conv2D(filters=8, kernel_size=(3,3), activation='relu'))\n",
    "    model.add(layers.GlobalMaxPooling2D()) \n",
    "\n",
    "    # Fully connected layer for classification\n",
    "    model.add(layers.Dense(1, activation='sigmoid')) \n",
    "\n",
    "    model.compile(optimizer='adam',\n",
    "                loss='binary_crossentropy',\n",
    "                metrics=['accuracy'])\n",
    "    model.summary()\n",
    "    return model"
   ]
  },
  {
   "cell_type": "code",
   "execution_count": 15,
   "id": "f41a5588",
   "metadata": {},
   "outputs": [
    {
     "name": "stderr",
     "output_type": "stream",
     "text": [
      "/home/enriq115/miniconda3/envs/my_env/lib/python3.11/site-packages/keras/src/layers/core/input_layer.py:27: UserWarning: Argument `input_shape` is deprecated. Use `shape` instead.\n",
      "  warnings.warn(\n"
     ]
    },
    {
     "data": {
      "text/html": [
       "<pre style=\"white-space:pre;overflow-x:auto;line-height:normal;font-family:Menlo,'DejaVu Sans Mono',consolas,'Courier New',monospace\"><span style=\"font-weight: bold\">Model: \"sequential\"</span>\n",
       "</pre>\n"
      ],
      "text/plain": [
       "\u001b[1mModel: \"sequential\"\u001b[0m\n"
      ]
     },
     "metadata": {},
     "output_type": "display_data"
    },
    {
     "data": {
      "text/html": [
       "<pre style=\"white-space:pre;overflow-x:auto;line-height:normal;font-family:Menlo,'DejaVu Sans Mono',consolas,'Courier New',monospace\">┏━━━━━━━━━━━━━━━━━━━━━━━━━━━━━━━━━┳━━━━━━━━━━━━━━━━━━━━━━━━┳━━━━━━━━━━━━━━━┓\n",
       "┃<span style=\"font-weight: bold\"> Layer (type)                    </span>┃<span style=\"font-weight: bold\"> Output Shape           </span>┃<span style=\"font-weight: bold\">       Param # </span>┃\n",
       "┡━━━━━━━━━━━━━━━━━━━━━━━━━━━━━━━━━╇━━━━━━━━━━━━━━━━━━━━━━━━╇━━━━━━━━━━━━━━━┩\n",
       "│ conv2d (<span style=\"color: #0087ff; text-decoration-color: #0087ff\">Conv2D</span>)                 │ (<span style=\"color: #00d7ff; text-decoration-color: #00d7ff\">None</span>, <span style=\"color: #00af00; text-decoration-color: #00af00\">198</span>, <span style=\"color: #00af00; text-decoration-color: #00af00\">198</span>, <span style=\"color: #00af00; text-decoration-color: #00af00\">16</span>)   │           <span style=\"color: #00af00; text-decoration-color: #00af00\">448</span> │\n",
       "├─────────────────────────────────┼────────────────────────┼───────────────┤\n",
       "│ max_pooling2d (<span style=\"color: #0087ff; text-decoration-color: #0087ff\">MaxPooling2D</span>)    │ (<span style=\"color: #00d7ff; text-decoration-color: #00d7ff\">None</span>, <span style=\"color: #00af00; text-decoration-color: #00af00\">99</span>, <span style=\"color: #00af00; text-decoration-color: #00af00\">99</span>, <span style=\"color: #00af00; text-decoration-color: #00af00\">16</span>)     │             <span style=\"color: #00af00; text-decoration-color: #00af00\">0</span> │\n",
       "├─────────────────────────────────┼────────────────────────┼───────────────┤\n",
       "│ conv2d_1 (<span style=\"color: #0087ff; text-decoration-color: #0087ff\">Conv2D</span>)               │ (<span style=\"color: #00d7ff; text-decoration-color: #00d7ff\">None</span>, <span style=\"color: #00af00; text-decoration-color: #00af00\">97</span>, <span style=\"color: #00af00; text-decoration-color: #00af00\">97</span>, <span style=\"color: #00af00; text-decoration-color: #00af00\">8</span>)      │         <span style=\"color: #00af00; text-decoration-color: #00af00\">1,160</span> │\n",
       "├─────────────────────────────────┼────────────────────────┼───────────────┤\n",
       "│ global_max_pooling2d            │ (<span style=\"color: #00d7ff; text-decoration-color: #00d7ff\">None</span>, <span style=\"color: #00af00; text-decoration-color: #00af00\">8</span>)              │             <span style=\"color: #00af00; text-decoration-color: #00af00\">0</span> │\n",
       "│ (<span style=\"color: #0087ff; text-decoration-color: #0087ff\">GlobalMaxPooling2D</span>)            │                        │               │\n",
       "├─────────────────────────────────┼────────────────────────┼───────────────┤\n",
       "│ dense (<span style=\"color: #0087ff; text-decoration-color: #0087ff\">Dense</span>)                   │ (<span style=\"color: #00d7ff; text-decoration-color: #00d7ff\">None</span>, <span style=\"color: #00af00; text-decoration-color: #00af00\">1</span>)              │             <span style=\"color: #00af00; text-decoration-color: #00af00\">9</span> │\n",
       "└─────────────────────────────────┴────────────────────────┴───────────────┘\n",
       "</pre>\n"
      ],
      "text/plain": [
       "┏━━━━━━━━━━━━━━━━━━━━━━━━━━━━━━━━━┳━━━━━━━━━━━━━━━━━━━━━━━━┳━━━━━━━━━━━━━━━┓\n",
       "┃\u001b[1m \u001b[0m\u001b[1mLayer (type)                   \u001b[0m\u001b[1m \u001b[0m┃\u001b[1m \u001b[0m\u001b[1mOutput Shape          \u001b[0m\u001b[1m \u001b[0m┃\u001b[1m \u001b[0m\u001b[1m      Param #\u001b[0m\u001b[1m \u001b[0m┃\n",
       "┡━━━━━━━━━━━━━━━━━━━━━━━━━━━━━━━━━╇━━━━━━━━━━━━━━━━━━━━━━━━╇━━━━━━━━━━━━━━━┩\n",
       "│ conv2d (\u001b[38;5;33mConv2D\u001b[0m)                 │ (\u001b[38;5;45mNone\u001b[0m, \u001b[38;5;34m198\u001b[0m, \u001b[38;5;34m198\u001b[0m, \u001b[38;5;34m16\u001b[0m)   │           \u001b[38;5;34m448\u001b[0m │\n",
       "├─────────────────────────────────┼────────────────────────┼───────────────┤\n",
       "│ max_pooling2d (\u001b[38;5;33mMaxPooling2D\u001b[0m)    │ (\u001b[38;5;45mNone\u001b[0m, \u001b[38;5;34m99\u001b[0m, \u001b[38;5;34m99\u001b[0m, \u001b[38;5;34m16\u001b[0m)     │             \u001b[38;5;34m0\u001b[0m │\n",
       "├─────────────────────────────────┼────────────────────────┼───────────────┤\n",
       "│ conv2d_1 (\u001b[38;5;33mConv2D\u001b[0m)               │ (\u001b[38;5;45mNone\u001b[0m, \u001b[38;5;34m97\u001b[0m, \u001b[38;5;34m97\u001b[0m, \u001b[38;5;34m8\u001b[0m)      │         \u001b[38;5;34m1,160\u001b[0m │\n",
       "├─────────────────────────────────┼────────────────────────┼───────────────┤\n",
       "│ global_max_pooling2d            │ (\u001b[38;5;45mNone\u001b[0m, \u001b[38;5;34m8\u001b[0m)              │             \u001b[38;5;34m0\u001b[0m │\n",
       "│ (\u001b[38;5;33mGlobalMaxPooling2D\u001b[0m)            │                        │               │\n",
       "├─────────────────────────────────┼────────────────────────┼───────────────┤\n",
       "│ dense (\u001b[38;5;33mDense\u001b[0m)                   │ (\u001b[38;5;45mNone\u001b[0m, \u001b[38;5;34m1\u001b[0m)              │             \u001b[38;5;34m9\u001b[0m │\n",
       "└─────────────────────────────────┴────────────────────────┴───────────────┘\n"
      ]
     },
     "metadata": {},
     "output_type": "display_data"
    },
    {
     "data": {
      "text/html": [
       "<pre style=\"white-space:pre;overflow-x:auto;line-height:normal;font-family:Menlo,'DejaVu Sans Mono',consolas,'Courier New',monospace\"><span style=\"font-weight: bold\"> Total params: </span><span style=\"color: #00af00; text-decoration-color: #00af00\">1,617</span> (6.32 KB)\n",
       "</pre>\n"
      ],
      "text/plain": [
       "\u001b[1m Total params: \u001b[0m\u001b[38;5;34m1,617\u001b[0m (6.32 KB)\n"
      ]
     },
     "metadata": {},
     "output_type": "display_data"
    },
    {
     "data": {
      "text/html": [
       "<pre style=\"white-space:pre;overflow-x:auto;line-height:normal;font-family:Menlo,'DejaVu Sans Mono',consolas,'Courier New',monospace\"><span style=\"font-weight: bold\"> Trainable params: </span><span style=\"color: #00af00; text-decoration-color: #00af00\">1,617</span> (6.32 KB)\n",
       "</pre>\n"
      ],
      "text/plain": [
       "\u001b[1m Trainable params: \u001b[0m\u001b[38;5;34m1,617\u001b[0m (6.32 KB)\n"
      ]
     },
     "metadata": {},
     "output_type": "display_data"
    },
    {
     "data": {
      "text/html": [
       "<pre style=\"white-space:pre;overflow-x:auto;line-height:normal;font-family:Menlo,'DejaVu Sans Mono',consolas,'Courier New',monospace\"><span style=\"font-weight: bold\"> Non-trainable params: </span><span style=\"color: #00af00; text-decoration-color: #00af00\">0</span> (0.00 B)\n",
       "</pre>\n"
      ],
      "text/plain": [
       "\u001b[1m Non-trainable params: \u001b[0m\u001b[38;5;34m0\u001b[0m (0.00 B)\n"
      ]
     },
     "metadata": {},
     "output_type": "display_data"
    },
    {
     "name": "stdout",
     "output_type": "stream",
     "text": [
      "Epoch 1/30\n",
      "\u001b[1m8/8\u001b[0m \u001b[32m━━━━━━━━━━━━━━━━━━━━\u001b[0m\u001b[37m\u001b[0m \u001b[1m9s\u001b[0m 1s/step - accuracy: 0.5067 - loss: 0.7386 - val_accuracy: 0.5561 - val_loss: 0.6869\n",
      "Epoch 2/30\n",
      "\u001b[1m8/8\u001b[0m \u001b[32m━━━━━━━━━━━━━━━━━━━━\u001b[0m\u001b[37m\u001b[0m \u001b[1m8s\u001b[0m 943ms/step - accuracy: 0.4900 - loss: 0.7005 - val_accuracy: 0.5556 - val_loss: 0.6883\n",
      "Epoch 3/30\n",
      "\u001b[1m8/8\u001b[0m \u001b[32m━━━━━━━━━━━━━━━━━━━━\u001b[0m\u001b[37m\u001b[0m \u001b[1m8s\u001b[0m 960ms/step - accuracy: 0.4792 - loss: 0.6960 - val_accuracy: 0.4444 - val_loss: 0.6962\n",
      "Epoch 4/30\n",
      "\u001b[1m8/8\u001b[0m \u001b[32m━━━━━━━━━━━━━━━━━━━━\u001b[0m\u001b[37m\u001b[0m \u001b[1m8s\u001b[0m 957ms/step - accuracy: 0.5100 - loss: 0.6927 - val_accuracy: 0.4444 - val_loss: 0.6959\n",
      "Epoch 5/30\n",
      "\u001b[1m8/8\u001b[0m \u001b[32m━━━━━━━━━━━━━━━━━━━━\u001b[0m\u001b[37m\u001b[0m \u001b[1m8s\u001b[0m 949ms/step - accuracy: 0.5279 - loss: 0.6905 - val_accuracy: 0.5643 - val_loss: 0.6913\n",
      "Epoch 6/30\n",
      "\u001b[1m8/8\u001b[0m \u001b[32m━━━━━━━━━━━━━━━━━━━━\u001b[0m\u001b[37m\u001b[0m \u001b[1m8s\u001b[0m 961ms/step - accuracy: 0.6232 - loss: 0.6894 - val_accuracy: 0.5632 - val_loss: 0.6913\n",
      "Epoch 7/30\n",
      "\u001b[1m8/8\u001b[0m \u001b[32m━━━━━━━━━━━━━━━━━━━━\u001b[0m\u001b[37m\u001b[0m \u001b[1m8s\u001b[0m 944ms/step - accuracy: 0.6369 - loss: 0.6872 - val_accuracy: 0.5415 - val_loss: 0.6916\n",
      "Epoch 8/30\n",
      "\u001b[1m8/8\u001b[0m \u001b[32m━━━━━━━━━━━━━━━━━━━━\u001b[0m\u001b[37m\u001b[0m \u001b[1m8s\u001b[0m 954ms/step - accuracy: 0.6647 - loss: 0.6852 - val_accuracy: 0.5743 - val_loss: 0.6902\n",
      "Epoch 9/30\n",
      "\u001b[1m8/8\u001b[0m \u001b[32m━━━━━━━━━━━━━━━━━━━━\u001b[0m\u001b[37m\u001b[0m \u001b[1m8s\u001b[0m 962ms/step - accuracy: 0.6906 - loss: 0.6839 - val_accuracy: 0.5661 - val_loss: 0.6903\n",
      "Epoch 10/30\n",
      "\u001b[1m8/8\u001b[0m \u001b[32m━━━━━━━━━━━━━━━━━━━━\u001b[0m\u001b[37m\u001b[0m \u001b[1m8s\u001b[0m 947ms/step - accuracy: 0.6840 - loss: 0.6824 - val_accuracy: 0.5725 - val_loss: 0.6895\n",
      "Epoch 11/30\n",
      "\u001b[1m8/8\u001b[0m \u001b[32m━━━━━━━━━━━━━━━━━━━━\u001b[0m\u001b[37m\u001b[0m \u001b[1m8s\u001b[0m 943ms/step - accuracy: 0.6917 - loss: 0.6811 - val_accuracy: 0.5678 - val_loss: 0.6897\n",
      "Epoch 12/30\n",
      "\u001b[1m8/8\u001b[0m \u001b[32m━━━━━━━━━━━━━━━━━━━━\u001b[0m\u001b[37m\u001b[0m \u001b[1m8s\u001b[0m 951ms/step - accuracy: 0.6925 - loss: 0.6794 - val_accuracy: 0.5754 - val_loss: 0.6889\n",
      "Epoch 13/30\n",
      "\u001b[1m8/8\u001b[0m \u001b[32m━━━━━━━━━━━━━━━━━━━━\u001b[0m\u001b[37m\u001b[0m \u001b[1m8s\u001b[0m 954ms/step - accuracy: 0.6962 - loss: 0.6776 - val_accuracy: 0.5789 - val_loss: 0.6880\n",
      "Epoch 14/30\n",
      "\u001b[1m8/8\u001b[0m \u001b[32m━━━━━━━━━━━━━━━━━━━━\u001b[0m\u001b[37m\u001b[0m \u001b[1m8s\u001b[0m 947ms/step - accuracy: 0.6942 - loss: 0.6757 - val_accuracy: 0.5684 - val_loss: 0.6879\n",
      "Epoch 15/30\n",
      "\u001b[1m8/8\u001b[0m \u001b[32m━━━━━━━━━━━━━━━━━━━━\u001b[0m\u001b[37m\u001b[0m \u001b[1m8s\u001b[0m 949ms/step - accuracy: 0.7012 - loss: 0.6731 - val_accuracy: 0.5778 - val_loss: 0.6868\n",
      "Epoch 16/30\n",
      "\u001b[1m8/8\u001b[0m \u001b[32m━━━━━━━━━━━━━━━━━━━━\u001b[0m\u001b[37m\u001b[0m \u001b[1m8s\u001b[0m 947ms/step - accuracy: 0.6972 - loss: 0.6709 - val_accuracy: 0.5725 - val_loss: 0.6868\n",
      "Epoch 17/30\n",
      "\u001b[1m8/8\u001b[0m \u001b[32m━━━━━━━━━━━━━━━━━━━━\u001b[0m\u001b[37m\u001b[0m \u001b[1m8s\u001b[0m 979ms/step - accuracy: 0.7005 - loss: 0.6681 - val_accuracy: 0.5819 - val_loss: 0.6850\n",
      "Epoch 18/30\n",
      "\u001b[1m8/8\u001b[0m \u001b[32m━━━━━━━━━━━━━━━━━━━━\u001b[0m\u001b[37m\u001b[0m \u001b[1m8s\u001b[0m 942ms/step - accuracy: 0.7017 - loss: 0.6657 - val_accuracy: 0.5743 - val_loss: 0.6850\n",
      "Epoch 19/30\n",
      "\u001b[1m8/8\u001b[0m \u001b[32m━━━━━━━━━━━━━━━━━━━━\u001b[0m\u001b[37m\u001b[0m \u001b[1m8s\u001b[0m 950ms/step - accuracy: 0.6975 - loss: 0.6626 - val_accuracy: 0.5842 - val_loss: 0.6836\n",
      "Epoch 20/30\n",
      "\u001b[1m8/8\u001b[0m \u001b[32m━━━━━━━━━━━━━━━━━━━━\u001b[0m\u001b[37m\u001b[0m \u001b[1m8s\u001b[0m 945ms/step - accuracy: 0.7068 - loss: 0.6598 - val_accuracy: 0.5795 - val_loss: 0.6832\n",
      "Epoch 21/30\n",
      "\u001b[1m8/8\u001b[0m \u001b[32m━━━━━━━━━━━━━━━━━━━━\u001b[0m\u001b[37m\u001b[0m \u001b[1m8s\u001b[0m 943ms/step - accuracy: 0.7016 - loss: 0.6565 - val_accuracy: 0.5801 - val_loss: 0.6814\n",
      "Epoch 22/30\n",
      "\u001b[1m8/8\u001b[0m \u001b[32m━━━━━━━━━━━━━━━━━━━━\u001b[0m\u001b[37m\u001b[0m \u001b[1m8s\u001b[0m 953ms/step - accuracy: 0.7053 - loss: 0.6533 - val_accuracy: 0.5830 - val_loss: 0.6802\n",
      "Epoch 23/30\n",
      "\u001b[1m8/8\u001b[0m \u001b[32m━━━━━━━━━━━━━━━━━━━━\u001b[0m\u001b[37m\u001b[0m \u001b[1m8s\u001b[0m 954ms/step - accuracy: 0.7077 - loss: 0.6498 - val_accuracy: 0.5825 - val_loss: 0.6798\n",
      "Epoch 24/30\n",
      "\u001b[1m8/8\u001b[0m \u001b[32m━━━━━━━━━━━━━━━━━━━━\u001b[0m\u001b[37m\u001b[0m \u001b[1m8s\u001b[0m 951ms/step - accuracy: 0.7059 - loss: 0.6459 - val_accuracy: 0.5830 - val_loss: 0.6786\n",
      "Epoch 25/30\n",
      "\u001b[1m8/8\u001b[0m \u001b[32m━━━━━━━━━━━━━━━━━━━━\u001b[0m\u001b[37m\u001b[0m \u001b[1m8s\u001b[0m 948ms/step - accuracy: 0.7045 - loss: 0.6421 - val_accuracy: 0.5883 - val_loss: 0.6766\n",
      "Epoch 26/30\n",
      "\u001b[1m8/8\u001b[0m \u001b[32m━━━━━━━━━━━━━━━━━━━━\u001b[0m\u001b[37m\u001b[0m \u001b[1m8s\u001b[0m 948ms/step - accuracy: 0.7025 - loss: 0.6385 - val_accuracy: 0.5883 - val_loss: 0.6756\n",
      "Epoch 27/30\n",
      "\u001b[1m8/8\u001b[0m \u001b[32m━━━━━━━━━━━━━━━━━━━━\u001b[0m\u001b[37m\u001b[0m \u001b[1m8s\u001b[0m 948ms/step - accuracy: 0.7060 - loss: 0.6344 - val_accuracy: 0.5883 - val_loss: 0.6748\n",
      "Epoch 28/30\n",
      "\u001b[1m8/8\u001b[0m \u001b[32m━━━━━━━━━━━━━━━━━━━━\u001b[0m\u001b[37m\u001b[0m \u001b[1m8s\u001b[0m 956ms/step - accuracy: 0.7069 - loss: 0.6299 - val_accuracy: 0.5883 - val_loss: 0.6736\n",
      "Epoch 29/30\n",
      "\u001b[1m8/8\u001b[0m \u001b[32m━━━━━━━━━━━━━━━━━━━━\u001b[0m\u001b[37m\u001b[0m \u001b[1m8s\u001b[0m 949ms/step - accuracy: 0.7063 - loss: 0.6258 - val_accuracy: 0.5883 - val_loss: 0.6727\n",
      "Epoch 30/30\n",
      "\u001b[1m8/8\u001b[0m \u001b[32m━━━━━━━━━━━━━━━━━━━━\u001b[0m\u001b[37m\u001b[0m \u001b[1m8s\u001b[0m 959ms/step - accuracy: 0.7058 - loss: 0.6214 - val_accuracy: 0.5883 - val_loss: 0.6717\n"
     ]
    },
    {
     "data": {
      "text/plain": [
       "<keras.src.callbacks.history.History at 0x1550ef9ccfd0>"
      ]
     },
     "execution_count": 15,
     "metadata": {},
     "output_type": "execute_result"
    }
   ],
   "source": [
    "model = create_model()\n",
    "\n",
    "model.fit(\n",
    "    X_train, \n",
    "    y_train,    \n",
    "    epochs=30,\n",
    "    steps_per_epoch=8,\n",
    "    validation_data = (X_val, y_val),\n",
    ")"
   ]
  },
  {
   "cell_type": "markdown",
   "id": "fd248063",
   "metadata": {},
   "source": [
    "# Predict on data"
   ]
  },
  {
   "cell_type": "code",
   "execution_count": 16,
   "id": "3b547bd9",
   "metadata": {},
   "outputs": [
    {
     "name": "stdout",
     "output_type": "stream",
     "text": [
      "\u001b[1m95/95\u001b[0m \u001b[32m━━━━━━━━━━━━━━━━━━━━\u001b[0m\u001b[37m\u001b[0m \u001b[1m1s\u001b[0m 8ms/step\n",
      "\u001b[1m54/54\u001b[0m \u001b[32m━━━━━━━━━━━━━━━━━━━━\u001b[0m\u001b[37m\u001b[0m \u001b[1m0s\u001b[0m 8ms/step\n",
      "\u001b[1m416/416\u001b[0m \u001b[32m━━━━━━━━━━━━━━━━━━━━\u001b[0m\u001b[37m\u001b[0m \u001b[1m3s\u001b[0m 8ms/step\n",
      "\n",
      "=== Classification Report — Train ===\n",
      "              precision    recall  f1-score   support\n",
      "\n",
      "     Genuine       0.77      0.61      0.68      1507\n",
      "       Spoof       0.68      0.82      0.74      1507\n",
      "\n",
      "    accuracy                           0.71      3014\n",
      "   macro avg       0.72      0.71      0.71      3014\n",
      "weighted avg       0.72      0.71      0.71      3014\n",
      "\n"
     ]
    },
    {
     "data": {
      "image/png": "[encoded data removed]",
      "text/plain": [
       "<Figure size 600x600 with 2 Axes>"
      ]
     },
     "metadata": {},
     "output_type": "display_data"
    },
    {
     "name": "stdout",
     "output_type": "stream",
     "text": [
      "\n",
      "=== Classification Report — Validation ===\n",
      "              precision    recall  f1-score   support\n",
      "\n",
      "     Genuine       0.57      0.30      0.39       760\n",
      "       Spoof       0.59      0.82      0.69       950\n",
      "\n",
      "    accuracy                           0.59      1710\n",
      "   macro avg       0.58      0.56      0.54      1710\n",
      "weighted avg       0.58      0.59      0.56      1710\n",
      "\n"
     ]
    },
    {
     "data": {
      "image/png": "[encoded data removed]",
      "text/plain": [
       "<Figure size 600x600 with 2 Axes>"
      ]
     },
     "metadata": {},
     "output_type": "display_data"
    },
    {
     "name": "stdout",
     "output_type": "stream",
     "text": [
      "\n",
      "=== Classification Report — Test ===\n",
      "              precision    recall  f1-score   support\n",
      "\n",
      "     Genuine       0.13      0.40      0.20      1298\n",
      "       Spoof       0.92      0.72      0.80     12008\n",
      "\n",
      "    accuracy                           0.69     13306\n",
      "   macro avg       0.52      0.56      0.50     13306\n",
      "weighted avg       0.84      0.69      0.75     13306\n",
      "\n"
     ]
    },
    {
     "data": {
      "image/png": "[encoded data removed]",
      "text/plain": [
       "<Figure size 600x600 with 2 Axes>"
      ]
     },
     "metadata": {},
     "output_type": "display_data"
    }
   ],
   "source": [
    "y_pred_train_raw = model.predict(X_train)\n",
    "y_pred_val_raw   = model.predict(X_val)\n",
    "y_pred_test_raw  = model.predict(X_test)\n",
    "\n",
    "def to_labels(probs):\n",
    "    if probs.ndim > 1 and probs.shape[1] > 1:\n",
    "        return probs.argmax(axis=1)\n",
    "    # threshold at 0.5\n",
    "    return (probs > 0.5).astype(int).ravel()\n",
    "\n",
    "y_pred_train = to_labels(y_pred_train_raw)\n",
    "y_pred_val   = to_labels(y_pred_val_raw)\n",
    "y_pred_test  = to_labels(y_pred_test_raw)\n",
    "\n",
    "# Define class names\n",
    "target_names = ['Genuine', 'Spoof']\n",
    " \n",
    "#loop through each split\n",
    "for split_name, y_true, y_pred in [\n",
    "    ('Train',      y_train, y_pred_train),\n",
    "    ('Validation', y_val,   y_pred_val),\n",
    "    ('Test',       y_test,  y_pred_test)\n",
    "]:\n",
    "    print(f\"\\n=== Classification Report — {split_name} ===\")\n",
    "    print(classification_report(y_true, y_pred, target_names=target_names))\n",
    "    \n",
    "    cm = confusion_matrix(y_true, y_pred)\n",
    "    plt.figure(figsize=(6, 6))\n",
    "    sns.heatmap(cm, annot=True, fmt='d', cmap='Blues',\n",
    "                xticklabels=target_names, yticklabels=target_names)\n",
    "    plt.xlabel('Predicted Label')\n",
    "    plt.ylabel('True Label')\n",
    "    plt.title(f'Confusion Matrix — {split_name}')\n",
    "    plt.show()"
   ]
  },
  {
   "cell_type": "code",
   "execution_count": null,
   "id": "a5682477",
   "metadata": {},
   "outputs": [],
   "source": [
    "from sklearn.metrics import roc_curve, auc\n",
    "import matplotlib.pyplot as plt\n",
    "\n",
    "# Flatten if needed\n",
    "y_test_flat = y_test.ravel()\n",
    "y_pred_probs_flat = y_pred.ravel()\n",
    "\n",
    "# Get FPR, TPR, thresholds\n",
    "fpr, tpr, thresholds = roc_curve(y_test_flat, y_pred_probs_flat)\n",
    "\n",
    "# Area Under Curve (AUC)\n",
    "roc_auc = auc(fpr, tpr)\n",
    "\n",
    "# Plot\n",
    "plt.figure(figsize=(8, 6))\n",
    "plt.plot(fpr, tpr, color='blue', lw=2, label=f'ROC Curve (AUC = {roc_auc:.2f})')\n",
    "plt.plot([0, 1], [0, 1], color='gray', linestyle='--', label='Random Chance')\n",
    "plt.xlim([0.0, 1.0])\n",
    "plt.ylim([0.0, 1.05])\n",
    "plt.xlabel('False Positive Rate (FPR)')\n",
    "plt.ylabel('True Positive Rate (TPR)')\n",
    "plt.title('Receiver Operating Characteristic (ROC) Curve')\n",
    "plt.legend(loc='lower right')\n",
    "plt.grid(True)\n",
    "plt.show()\n"
   ]
  }
 ],
 "metadata": {
  "kernelspec": {
   "display_name": "my_env",
   "language": "python",
   "name": "python3"
  },
  "language_info": {
   "codemirror_mode": {
    "name": "ipython",
    "version": 3
   },
   "file_extension": ".py",
   "mimetype": "text/x-python",
   "name": "python",
   "nbconvert_exporter": "python",
   "pygments_lexer": "ipython3",
   "version": "3.11.12"
  }
 },
 "nbformat": 4,
 "nbformat_minor": 5
}
