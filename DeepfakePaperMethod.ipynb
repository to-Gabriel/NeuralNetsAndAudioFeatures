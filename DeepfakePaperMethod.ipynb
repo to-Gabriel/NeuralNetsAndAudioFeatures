{
 "cells": [
  {
   "cell_type": "code",
   "execution_count": 1,
   "id": "ba0920eb",
   "metadata": {},
   "outputs": [
    {
     "name": "stderr",
     "output_type": "stream",
     "text": [
      "2025-04-25 10:14:46.259977: I tensorflow/core/platform/cpu_feature_guard.cc:210] This TensorFlow binary is optimized to use available CPU instructions in performance-critical operations.\n",
      "To enable the following instructions: SSE4.1 SSE4.2 AVX AVX2 FMA, in other operations, rebuild TensorFlow with the appropriate compiler flags.\n"
     ]
    }
   ],
   "source": [
    "import librosa\n",
    "import os\n",
    "import tensorflow as tf\n",
    "from tensorflow.keras import layers, models, regularizers, callbacks\n",
    "import numpy as np\n",
    "import pandas as pd\n",
    "from sklearn.model_selection import train_test_split\n",
    "from sklearn.preprocessing import scale\n",
    "import matplotlib.pyplot as plt\n",
    "from PIL import Image\n",
    "import io"
   ]
  },
  {
   "cell_type": "markdown",
   "id": "7e5e0e0f",
   "metadata": {},
   "source": [
    "# Experiment 1: Turning wavs to mfcc \n",
    "See how they compare to images from gabriel after removing white border"
   ]
  },
  {
   "cell_type": "code",
   "execution_count": null,
   "id": "ec30310f",
   "metadata": {},
   "outputs": [],
   "source": [
    "#base path for each kind of data\n",
    "train_dataset_path = '/home/enriq115/dev/research/cs478/FinalProject/Data/ASVspoof2017_V2_train'\n",
    "eval_dataset_path = '/home/enriq115/dev/research/cs478/FinalProject/Data/ASVspoof2017_V2_eval'\n",
    "\n",
    "dev_dataset_path = '/home/enriq115/dev/research/cs478/FinalProject/Data/ASVspoof2017_V2_dev'\n",
    "print(train_dataset_path)"
   ]
  },
  {
   "cell_type": "code",
   "execution_count": null,
   "id": "272f18ca",
   "metadata": {},
   "outputs": [],
   "source": [
    "#Store names of wav files in list (They're in order) \n",
    "train_audio_files = sorted([f for f in os.listdir(train_dataset_path) if os.path.isfile(os.path.join(train_dataset_path, f))])\n",
    "eval_audio_files = sorted([f for f in os.listdir(eval_dataset_path) if os.path.isfile(os.path.join(eval_dataset_path, f))])\n",
    "dev_audio_files = sorted([f for f in os.listdir(dev_dataset_path) if os.path.isfile(os.path.join(dev_dataset_path, f))])\n",
    "\n",
    "print(train_audio_files[:5])\n",
    "print(eval_audio_files[:5])\n",
    "print(dev_audio_files[:5])\n"
   ]
  },
  {
   "cell_type": "code",
   "execution_count": null,
   "id": "3083c74d",
   "metadata": {},
   "outputs": [],
   "source": [
    "#Function for normalizing each mfcc row.\n",
    "#Used instead of scale() from gabriel's code because its faster and doesn't display error message\n",
    "def safe_zscore(mfcc, eps=1e-6):\n",
    "    mean = np.mean(mfcc, axis=1, keepdims=True)\n",
    "    std = np.std(mfcc, axis=1, keepdims=True)\n",
    "    return (mfcc - mean) / (std + eps)"
   ]
  },
  {
   "cell_type": "code",
   "execution_count": null,
   "id": "6b7def61",
   "metadata": {},
   "outputs": [],
   "source": [
    "#Converts a wav file into a mfcc image\n",
    "#Originally from gabriel's code\n",
    "def wav_to_mfcc(file_path, sample_rate, n_fft, n_mfcc, hop_length):    \n",
    "    y, sr = librosa.load(file_path, sr=sample_rate)\n",
    "    mfcc = librosa.feature.mfcc(y=y, sr=sr,\n",
    "                            n_fft=n_fft, n_mfcc=n_mfcc,\n",
    "                            hop_length=hop_length)\n",
    "    mfccs = safe_zscore(mfcc)\n",
    "\n",
    "    librosa.display.specshow(mfccs, sr=sample_rate,\n",
    "                                    n_fft=n_fft,\n",
    "                                    hop_length=hop_length)\n",
    "    \n",
    "    # #fig2img\n",
    "    buf = io.BytesIO()\n",
    "    fig = plt.gcf()\n",
    "    fig.savefig(buf, bbox_inches='tight', pad_inches=0)\n",
    "    plt.close(fig)\n",
    "    buf.seek(0)\n",
    "    img = Image.open(buf).convert(\"RGB\")\n",
    "\n",
    "\n",
    "    # # Resize to 200x200\n",
    "    img_resized = img.resize((200, 200))\n",
    "\n",
    "    # # Convert to float and normalize to [0, 1]\n",
    "    img_array = np.array(img_resized).astype(\"float32\") / 255.0\n",
    "    return img_array\n",
    "    \n",
    "    # sample_rate = 16000\n",
    "    # frame_len = 0.025 # 25ms\n",
    "    # hop_len = 0.01 # 10ms\n",
    "    # n_fft = int(sample_rate * frame_len)\n",
    "    # hop_length = int(sample_rate * hop_len)\n",
    "    # n_mfcc = 13"
   ]
  },
  {
   "cell_type": "code",
   "execution_count": null,
   "id": "512999c5",
   "metadata": {},
   "outputs": [],
   "source": [
    "#For testing wav_to_mfcc function and see how mfcc looks like\n",
    "dummy_path = train_dataset_path + \"/\" + train_audio_files[3012]\n",
    "dummy_mfcc = wav_to_mfcc(dummy_path, 16000, int(16000 * 0.025), 13, int(16000 * 0.01))\n",
    "\n",
    "# dummy_mfcc.shape\n",
    "# plt.imshow(dummy_mfcc)\n",
    "# plt.title(\"MFCC\")\n",
    "# plt.axis(\"off\")\n",
    "# plt.show()\n",
    "\n",
    "img = Image.fromarray((dummy_mfcc * 255).astype(np.uint8))\n",
    "img.show()\n",
    "dummy_mfcc.shape"
   ]
  },
  {
   "cell_type": "code",
   "execution_count": null,
   "id": "bfd3172a",
   "metadata": {},
   "outputs": [],
   "source": [
    "#Save all wav in folder into mfcc function\n",
    "def allWavtoMFCC(files_array, dataset_path):\n",
    "    mfcc_arr = []\n",
    "    for file in files_array:\n",
    "        file_path = os.path.join(dataset_path, file)\n",
    "        mfcc = wav_to_mfcc(file_path, 16000, int(16000 * 0.025), 13, int(16000 * 0.01))\n",
    "        mfcc_arr.append(mfcc)\n",
    "    return np.array(mfcc_arr)\n",
    "        \n",
    "    "
   ]
  },
  {
   "cell_type": "code",
   "execution_count": null,
   "id": "927221e3",
   "metadata": {},
   "outputs": [],
   "source": [
    "X_train = allWavtoMFCC(train_audio_files, train_dataset_path)\n"
   ]
  },
  {
   "cell_type": "code",
   "execution_count": null,
   "id": "8aae5d1a",
   "metadata": {},
   "outputs": [],
   "source": [
    "X_test = allWavtoMFCC(eval_audio_files, eval_dataset_path)\n",
    "X_val = allWavtoMFCC(dev_audio_files, dev_dataset_path)"
   ]
  },
  {
   "cell_type": "code",
   "execution_count": null,
   "id": "a7f99701",
   "metadata": {},
   "outputs": [],
   "source": [
    "#Function for getting x and y data for a specific kind of dataset\n",
    "#For example, pass in addresses for training csv and mfcc images to get X_train and y_train\n",
    "def load_labels_from_csv(csv_path):\n",
    "    #Get values from csv\n",
    "    df = pd.read_csv(csv_path)\n",
    "\n",
    "    label_map = {'genuine': 0, 'spoof': 1}\n",
    "    #Create arrays with the addresses and another one with the labels\n",
    "    labels = df['Label'].map(label_map)\n",
    "        \n",
    "    return np.array(labels)     "
   ]
  },
  {
   "cell_type": "code",
   "execution_count": null,
   "id": "3c5536a0",
   "metadata": {},
   "outputs": [],
   "source": [
    "y_train = load_labels_from_csv(\n",
    "    '/home/enriq115/dev/research/cs478/FinalProject/Data/ASVspoof2017_V2_train.csv',\n",
    "\n",
    ")\n",
    "\n",
    "y_test = load_labels_from_csv(\n",
    "    '/home/enriq115/dev/research/cs478/FinalProject/Data/ASVspoof2017_V2_eval.csv'\n",
    ")\n",
    "\n",
    "y_val = load_labels_from_csv(\n",
    "    '/home/enriq115/dev/research/cs478/FinalProject/Data/ASVspoof2017_V2_dev.csv'\n",
    ")"
   ]
  },
  {
   "cell_type": "markdown",
   "id": "473d21cd",
   "metadata": {},
   "source": [
    "# Experiment 2: Load MFCC Data\n",
    "From Gabriel's MFCC folder"
   ]
  },
  {
   "cell_type": "code",
   "execution_count": 2,
   "id": "ec585466",
   "metadata": {},
   "outputs": [],
   "source": [
    "#Function for getting x and y data for a specific kind of dataset\n",
    "#For example, pass in addresses for training csv and mfcc images to get X_train and y_train\n",
    "def load_images_from_csv(csv_path, image_dir):\n",
    "    #Get values from csv\n",
    "    df = pd.read_csv(csv_path)\n",
    "\n",
    "    #For csv, create a new column that has the full path to images\n",
    "    df['filepath'] = df['File'].apply(lambda fname: os.path.join(image_dir, fname.replace('.wav', '.png')))\n",
    "\n",
    "    label_map = {'genuine': 0, 'spoof': 1}\n",
    "    #Create arrays with the addresses and another one with the labels\n",
    "    labels = df['Label'].map(label_map)\n",
    "    images = []\n",
    "    for path in df['filepath']:\n",
    "        img = tf.io.read_file(path)\n",
    "        img = tf.image.decode_png(img, channels=3)  # or 1 for grayscale\n",
    "        img = tf.image.convert_image_dtype(img, tf.float32)  # [0.0, 1.0]\n",
    "        images.append(img.numpy())\n",
    "        \n",
    "    return np.array(images), np.array(labels)     \n",
    "   "
   ]
  },
  {
   "cell_type": "code",
   "execution_count": 3,
   "id": "a6b6d762",
   "metadata": {},
   "outputs": [],
   "source": [
    "X_train, y_train = load_images_from_csv(\n",
    "    '/home/enriq115/dev/research/cs478/FinalProject/Data/ASVspoof2017_V2_train.csv',\n",
    "    '/home/enriq115/dev/research/cs478/FinalProject/Dataset/MFCC/ASVspoof2017_V2_train'\n",
    ")\n",
    "\n",
    "X_test, y_test = load_images_from_csv(\n",
    "    '/home/enriq115/dev/research/cs478/FinalProject/Data/ASVspoof2017_V2_eval.csv',\n",
    "    '/home/enriq115/dev/research/cs478/FinalProject/Dataset/MFCC/ASVspoof2017_V2_eval'\n",
    ")\n",
    "\n",
    "X_val, y_val = load_images_from_csv(\n",
    "    '/home/enriq115/dev/research/cs478/FinalProject/Data/ASVspoof2017_V2_dev.csv',\n",
    "    '/home/enriq115/dev/research/cs478/FinalProject/Dataset/MFCC/ASVspoof2017_V2_dev'\n",
    ")"
   ]
  },
  {
   "cell_type": "code",
   "execution_count": null,
   "id": "7c0ec6c3",
   "metadata": {},
   "outputs": [],
   "source": [
    "X_val[1]\n",
    "# # Show the first image in the array\n",
    "plt.imshow(X_val[0])  # assumes pixel values are already in [0, 1] or [0, 255]\n",
    "plt.title(\"First Image from X_train\")\n",
    "plt.axis('off')  # Hide axis ticks\n",
    "plt.show()\n"
   ]
  },
  {
   "cell_type": "code",
   "execution_count": 4,
   "id": "46b771d2",
   "metadata": {},
   "outputs": [],
   "source": [
    "from sklearn.utils import shuffle\n",
    "\n",
    "#Shuffle data for train and val to avoid the model generalizing stuff\n",
    "X_train, y_train = shuffle(X_train, y_train, random_state=42)\n",
    "X_val, y_val = shuffle(X_val, y_val, random_state=42)"
   ]
  },
  {
   "cell_type": "markdown",
   "id": "0c0734f0",
   "metadata": {},
   "source": [
    "# CNN Model (as accurate as possible)"
   ]
  },
  {
   "cell_type": "code",
   "execution_count": 5,
   "id": "69eaecd5",
   "metadata": {},
   "outputs": [],
   "source": [
    "def create_model():\n",
    "    tf.random.set_seed(42) \n",
    "    model = models.Sequential()\n",
    "    model.add(layers.InputLayer(input_shape=(200,200,3)))\n",
    "\n",
    "    # First 2D Conv Layer and 2d Max Pooling\n",
    "    model.add(layers.Conv2D(filters=16, kernel_size=(3,3), activation='relu'))\n",
    "    model.add(layers.BatchNormalization())\n",
    "    model.add(layers.MaxPooling2D(pool_size=(2,2)))\n",
    "\n",
    "    # Global Max Pooling\n",
    "    model.add(layers.Conv2D(filters=32, kernel_size=(3,3), activation='relu'))\n",
    "    model.add(layers.BatchNormalization())\n",
    "    model.add(layers.MaxPooling2D(pool_size=(2,2)))\n",
    "    model.add(layers.GlobalMaxPooling2D())  # This reduces spatial dimensions to 1D feature vector\n",
    "\n",
    "\n",
    "    # Fully connected output\n",
    "    model.add(layers.Dense(64, activation='relu'))\n",
    "    model.add(layers.Dropout(0.5))\n",
    "    model.add(layers.Dense(1, activation='sigmoid'))  # Binary classification\n",
    "\n",
    "    model.compile(optimizer='adam',\n",
    "                loss='binary_crossentropy',\n",
    "                metrics=['accuracy'])\n",
    "    model.summary()\n",
    "    return model\n"
   ]
  },
  {
   "cell_type": "code",
   "execution_count": 6,
   "id": "f41a5588",
   "metadata": {},
   "outputs": [
    {
     "name": "stderr",
     "output_type": "stream",
     "text": [
      "/home/enriq115/miniconda3/envs/my_env/lib/python3.11/site-packages/keras/src/layers/core/input_layer.py:27: UserWarning: Argument `input_shape` is deprecated. Use `shape` instead.\n",
      "  warnings.warn(\n"
     ]
    },
    {
     "data": {
      "text/html": [
       "<pre style=\"white-space:pre;overflow-x:auto;line-height:normal;font-family:Menlo,'DejaVu Sans Mono',consolas,'Courier New',monospace\"><span style=\"font-weight: bold\">Model: \"sequential\"</span>\n",
       "</pre>\n"
      ],
      "text/plain": [
       "\u001b[1mModel: \"sequential\"\u001b[0m\n"
      ]
     },
     "metadata": {},
     "output_type": "display_data"
    },
    {
     "data": {
      "text/html": [
       "<pre style=\"white-space:pre;overflow-x:auto;line-height:normal;font-family:Menlo,'DejaVu Sans Mono',consolas,'Courier New',monospace\">┏━━━━━━━━━━━━━━━━━━━━━━━━━━━━━━━━━┳━━━━━━━━━━━━━━━━━━━━━━━━┳━━━━━━━━━━━━━━━┓\n",
       "┃<span style=\"font-weight: bold\"> Layer (type)                    </span>┃<span style=\"font-weight: bold\"> Output Shape           </span>┃<span style=\"font-weight: bold\">       Param # </span>┃\n",
       "┡━━━━━━━━━━━━━━━━━━━━━━━━━━━━━━━━━╇━━━━━━━━━━━━━━━━━━━━━━━━╇━━━━━━━━━━━━━━━┩\n",
       "│ conv2d (<span style=\"color: #0087ff; text-decoration-color: #0087ff\">Conv2D</span>)                 │ (<span style=\"color: #00d7ff; text-decoration-color: #00d7ff\">None</span>, <span style=\"color: #00af00; text-decoration-color: #00af00\">198</span>, <span style=\"color: #00af00; text-decoration-color: #00af00\">198</span>, <span style=\"color: #00af00; text-decoration-color: #00af00\">16</span>)   │           <span style=\"color: #00af00; text-decoration-color: #00af00\">448</span> │\n",
       "├─────────────────────────────────┼────────────────────────┼───────────────┤\n",
       "│ batch_normalization             │ (<span style=\"color: #00d7ff; text-decoration-color: #00d7ff\">None</span>, <span style=\"color: #00af00; text-decoration-color: #00af00\">198</span>, <span style=\"color: #00af00; text-decoration-color: #00af00\">198</span>, <span style=\"color: #00af00; text-decoration-color: #00af00\">16</span>)   │            <span style=\"color: #00af00; text-decoration-color: #00af00\">64</span> │\n",
       "│ (<span style=\"color: #0087ff; text-decoration-color: #0087ff\">BatchNormalization</span>)            │                        │               │\n",
       "├─────────────────────────────────┼────────────────────────┼───────────────┤\n",
       "│ max_pooling2d (<span style=\"color: #0087ff; text-decoration-color: #0087ff\">MaxPooling2D</span>)    │ (<span style=\"color: #00d7ff; text-decoration-color: #00d7ff\">None</span>, <span style=\"color: #00af00; text-decoration-color: #00af00\">99</span>, <span style=\"color: #00af00; text-decoration-color: #00af00\">99</span>, <span style=\"color: #00af00; text-decoration-color: #00af00\">16</span>)     │             <span style=\"color: #00af00; text-decoration-color: #00af00\">0</span> │\n",
       "├─────────────────────────────────┼────────────────────────┼───────────────┤\n",
       "│ conv2d_1 (<span style=\"color: #0087ff; text-decoration-color: #0087ff\">Conv2D</span>)               │ (<span style=\"color: #00d7ff; text-decoration-color: #00d7ff\">None</span>, <span style=\"color: #00af00; text-decoration-color: #00af00\">97</span>, <span style=\"color: #00af00; text-decoration-color: #00af00\">97</span>, <span style=\"color: #00af00; text-decoration-color: #00af00\">32</span>)     │         <span style=\"color: #00af00; text-decoration-color: #00af00\">4,640</span> │\n",
       "├─────────────────────────────────┼────────────────────────┼───────────────┤\n",
       "│ batch_normalization_1           │ (<span style=\"color: #00d7ff; text-decoration-color: #00d7ff\">None</span>, <span style=\"color: #00af00; text-decoration-color: #00af00\">97</span>, <span style=\"color: #00af00; text-decoration-color: #00af00\">97</span>, <span style=\"color: #00af00; text-decoration-color: #00af00\">32</span>)     │           <span style=\"color: #00af00; text-decoration-color: #00af00\">128</span> │\n",
       "│ (<span style=\"color: #0087ff; text-decoration-color: #0087ff\">BatchNormalization</span>)            │                        │               │\n",
       "├─────────────────────────────────┼────────────────────────┼───────────────┤\n",
       "│ max_pooling2d_1 (<span style=\"color: #0087ff; text-decoration-color: #0087ff\">MaxPooling2D</span>)  │ (<span style=\"color: #00d7ff; text-decoration-color: #00d7ff\">None</span>, <span style=\"color: #00af00; text-decoration-color: #00af00\">48</span>, <span style=\"color: #00af00; text-decoration-color: #00af00\">48</span>, <span style=\"color: #00af00; text-decoration-color: #00af00\">32</span>)     │             <span style=\"color: #00af00; text-decoration-color: #00af00\">0</span> │\n",
       "├─────────────────────────────────┼────────────────────────┼───────────────┤\n",
       "│ global_max_pooling2d            │ (<span style=\"color: #00d7ff; text-decoration-color: #00d7ff\">None</span>, <span style=\"color: #00af00; text-decoration-color: #00af00\">32</span>)             │             <span style=\"color: #00af00; text-decoration-color: #00af00\">0</span> │\n",
       "│ (<span style=\"color: #0087ff; text-decoration-color: #0087ff\">GlobalMaxPooling2D</span>)            │                        │               │\n",
       "├─────────────────────────────────┼────────────────────────┼───────────────┤\n",
       "│ dense (<span style=\"color: #0087ff; text-decoration-color: #0087ff\">Dense</span>)                   │ (<span style=\"color: #00d7ff; text-decoration-color: #00d7ff\">None</span>, <span style=\"color: #00af00; text-decoration-color: #00af00\">64</span>)             │         <span style=\"color: #00af00; text-decoration-color: #00af00\">2,112</span> │\n",
       "├─────────────────────────────────┼────────────────────────┼───────────────┤\n",
       "│ dropout (<span style=\"color: #0087ff; text-decoration-color: #0087ff\">Dropout</span>)               │ (<span style=\"color: #00d7ff; text-decoration-color: #00d7ff\">None</span>, <span style=\"color: #00af00; text-decoration-color: #00af00\">64</span>)             │             <span style=\"color: #00af00; text-decoration-color: #00af00\">0</span> │\n",
       "├─────────────────────────────────┼────────────────────────┼───────────────┤\n",
       "│ dense_1 (<span style=\"color: #0087ff; text-decoration-color: #0087ff\">Dense</span>)                 │ (<span style=\"color: #00d7ff; text-decoration-color: #00d7ff\">None</span>, <span style=\"color: #00af00; text-decoration-color: #00af00\">1</span>)              │            <span style=\"color: #00af00; text-decoration-color: #00af00\">65</span> │\n",
       "└─────────────────────────────────┴────────────────────────┴───────────────┘\n",
       "</pre>\n"
      ],
      "text/plain": [
       "┏━━━━━━━━━━━━━━━━━━━━━━━━━━━━━━━━━┳━━━━━━━━━━━━━━━━━━━━━━━━┳━━━━━━━━━━━━━━━┓\n",
       "┃\u001b[1m \u001b[0m\u001b[1mLayer (type)                   \u001b[0m\u001b[1m \u001b[0m┃\u001b[1m \u001b[0m\u001b[1mOutput Shape          \u001b[0m\u001b[1m \u001b[0m┃\u001b[1m \u001b[0m\u001b[1m      Param #\u001b[0m\u001b[1m \u001b[0m┃\n",
       "┡━━━━━━━━━━━━━━━━━━━━━━━━━━━━━━━━━╇━━━━━━━━━━━━━━━━━━━━━━━━╇━━━━━━━━━━━━━━━┩\n",
       "│ conv2d (\u001b[38;5;33mConv2D\u001b[0m)                 │ (\u001b[38;5;45mNone\u001b[0m, \u001b[38;5;34m198\u001b[0m, \u001b[38;5;34m198\u001b[0m, \u001b[38;5;34m16\u001b[0m)   │           \u001b[38;5;34m448\u001b[0m │\n",
       "├─────────────────────────────────┼────────────────────────┼───────────────┤\n",
       "│ batch_normalization             │ (\u001b[38;5;45mNone\u001b[0m, \u001b[38;5;34m198\u001b[0m, \u001b[38;5;34m198\u001b[0m, \u001b[38;5;34m16\u001b[0m)   │            \u001b[38;5;34m64\u001b[0m │\n",
       "│ (\u001b[38;5;33mBatchNormalization\u001b[0m)            │                        │               │\n",
       "├─────────────────────────────────┼────────────────────────┼───────────────┤\n",
       "│ max_pooling2d (\u001b[38;5;33mMaxPooling2D\u001b[0m)    │ (\u001b[38;5;45mNone\u001b[0m, \u001b[38;5;34m99\u001b[0m, \u001b[38;5;34m99\u001b[0m, \u001b[38;5;34m16\u001b[0m)     │             \u001b[38;5;34m0\u001b[0m │\n",
       "├─────────────────────────────────┼────────────────────────┼───────────────┤\n",
       "│ conv2d_1 (\u001b[38;5;33mConv2D\u001b[0m)               │ (\u001b[38;5;45mNone\u001b[0m, \u001b[38;5;34m97\u001b[0m, \u001b[38;5;34m97\u001b[0m, \u001b[38;5;34m32\u001b[0m)     │         \u001b[38;5;34m4,640\u001b[0m │\n",
       "├─────────────────────────────────┼────────────────────────┼───────────────┤\n",
       "│ batch_normalization_1           │ (\u001b[38;5;45mNone\u001b[0m, \u001b[38;5;34m97\u001b[0m, \u001b[38;5;34m97\u001b[0m, \u001b[38;5;34m32\u001b[0m)     │           \u001b[38;5;34m128\u001b[0m │\n",
       "│ (\u001b[38;5;33mBatchNormalization\u001b[0m)            │                        │               │\n",
       "├─────────────────────────────────┼────────────────────────┼───────────────┤\n",
       "│ max_pooling2d_1 (\u001b[38;5;33mMaxPooling2D\u001b[0m)  │ (\u001b[38;5;45mNone\u001b[0m, \u001b[38;5;34m48\u001b[0m, \u001b[38;5;34m48\u001b[0m, \u001b[38;5;34m32\u001b[0m)     │             \u001b[38;5;34m0\u001b[0m │\n",
       "├─────────────────────────────────┼────────────────────────┼───────────────┤\n",
       "│ global_max_pooling2d            │ (\u001b[38;5;45mNone\u001b[0m, \u001b[38;5;34m32\u001b[0m)             │             \u001b[38;5;34m0\u001b[0m │\n",
       "│ (\u001b[38;5;33mGlobalMaxPooling2D\u001b[0m)            │                        │               │\n",
       "├─────────────────────────────────┼────────────────────────┼───────────────┤\n",
       "│ dense (\u001b[38;5;33mDense\u001b[0m)                   │ (\u001b[38;5;45mNone\u001b[0m, \u001b[38;5;34m64\u001b[0m)             │         \u001b[38;5;34m2,112\u001b[0m │\n",
       "├─────────────────────────────────┼────────────────────────┼───────────────┤\n",
       "│ dropout (\u001b[38;5;33mDropout\u001b[0m)               │ (\u001b[38;5;45mNone\u001b[0m, \u001b[38;5;34m64\u001b[0m)             │             \u001b[38;5;34m0\u001b[0m │\n",
       "├─────────────────────────────────┼────────────────────────┼───────────────┤\n",
       "│ dense_1 (\u001b[38;5;33mDense\u001b[0m)                 │ (\u001b[38;5;45mNone\u001b[0m, \u001b[38;5;34m1\u001b[0m)              │            \u001b[38;5;34m65\u001b[0m │\n",
       "└─────────────────────────────────┴────────────────────────┴───────────────┘\n"
      ]
     },
     "metadata": {},
     "output_type": "display_data"
    },
    {
     "data": {
      "text/html": [
       "<pre style=\"white-space:pre;overflow-x:auto;line-height:normal;font-family:Menlo,'DejaVu Sans Mono',consolas,'Courier New',monospace\"><span style=\"font-weight: bold\"> Total params: </span><span style=\"color: #00af00; text-decoration-color: #00af00\">7,457</span> (29.13 KB)\n",
       "</pre>\n"
      ],
      "text/plain": [
       "\u001b[1m Total params: \u001b[0m\u001b[38;5;34m7,457\u001b[0m (29.13 KB)\n"
      ]
     },
     "metadata": {},
     "output_type": "display_data"
    },
    {
     "data": {
      "text/html": [
       "<pre style=\"white-space:pre;overflow-x:auto;line-height:normal;font-family:Menlo,'DejaVu Sans Mono',consolas,'Courier New',monospace\"><span style=\"font-weight: bold\"> Trainable params: </span><span style=\"color: #00af00; text-decoration-color: #00af00\">7,361</span> (28.75 KB)\n",
       "</pre>\n"
      ],
      "text/plain": [
       "\u001b[1m Trainable params: \u001b[0m\u001b[38;5;34m7,361\u001b[0m (28.75 KB)\n"
      ]
     },
     "metadata": {},
     "output_type": "display_data"
    },
    {
     "data": {
      "text/html": [
       "<pre style=\"white-space:pre;overflow-x:auto;line-height:normal;font-family:Menlo,'DejaVu Sans Mono',consolas,'Courier New',monospace\"><span style=\"font-weight: bold\"> Non-trainable params: </span><span style=\"color: #00af00; text-decoration-color: #00af00\">96</span> (384.00 B)\n",
       "</pre>\n"
      ],
      "text/plain": [
       "\u001b[1m Non-trainable params: \u001b[0m\u001b[38;5;34m96\u001b[0m (384.00 B)\n"
      ]
     },
     "metadata": {},
     "output_type": "display_data"
    },
    {
     "name": "stdout",
     "output_type": "stream",
     "text": [
      "Epoch 1/30\n",
      "\u001b[1m8/8\u001b[0m \u001b[32m━━━━━━━━━━━━━━━━━━━━\u001b[0m\u001b[37m\u001b[0m \u001b[1m16s\u001b[0m 2s/step - accuracy: 0.5252 - loss: 3.8105 - val_accuracy: 0.5556 - val_loss: 0.6879\n",
      "Epoch 2/30\n",
      "\u001b[1m8/8\u001b[0m \u001b[32m━━━━━━━━━━━━━━━━━━━━\u001b[0m\u001b[37m\u001b[0m \u001b[1m14s\u001b[0m 2s/step - accuracy: 0.5083 - loss: 2.0748 - val_accuracy: 0.5556 - val_loss: 0.6872\n",
      "Epoch 3/30\n",
      "\u001b[1m8/8\u001b[0m \u001b[32m━━━━━━━━━━━━━━━━━━━━\u001b[0m\u001b[37m\u001b[0m \u001b[1m14s\u001b[0m 2s/step - accuracy: 0.5365 - loss: 1.4313 - val_accuracy: 0.5556 - val_loss: 0.6865\n",
      "Epoch 4/30\n",
      "\u001b[1m8/8\u001b[0m \u001b[32m━━━━━━━━━━━━━━━━━━━━\u001b[0m\u001b[37m\u001b[0m \u001b[1m14s\u001b[0m 2s/step - accuracy: 0.5458 - loss: 1.1148 - val_accuracy: 0.5556 - val_loss: 0.6866\n",
      "Epoch 5/30\n",
      "\u001b[1m8/8\u001b[0m \u001b[32m━━━━━━━━━━━━━━━━━━━━\u001b[0m\u001b[37m\u001b[0m \u001b[1m14s\u001b[0m 2s/step - accuracy: 0.5706 - loss: 0.9105 - val_accuracy: 0.5556 - val_loss: 0.6865\n",
      "Epoch 6/30\n",
      "\u001b[1m8/8\u001b[0m \u001b[32m━━━━━━━━━━━━━━━━━━━━\u001b[0m\u001b[37m\u001b[0m \u001b[1m14s\u001b[0m 2s/step - accuracy: 0.6236 - loss: 0.7247 - val_accuracy: 0.5556 - val_loss: 0.6861\n",
      "Epoch 7/30\n",
      "\u001b[1m8/8\u001b[0m \u001b[32m━━━━━━━━━━━━━━━━━━━━\u001b[0m\u001b[37m\u001b[0m \u001b[1m14s\u001b[0m 2s/step - accuracy: 0.6762 - loss: 0.6074 - val_accuracy: 0.5556 - val_loss: 0.6856\n",
      "Epoch 8/30\n",
      "\u001b[1m8/8\u001b[0m \u001b[32m━━━━━━━━━━━━━━━━━━━━\u001b[0m\u001b[37m\u001b[0m \u001b[1m14s\u001b[0m 2s/step - accuracy: 0.7106 - loss: 0.5674 - val_accuracy: 0.5556 - val_loss: 0.6849\n",
      "Epoch 9/30\n",
      "\u001b[1m8/8\u001b[0m \u001b[32m━━━━━━━━━━━━━━━━━━━━\u001b[0m\u001b[37m\u001b[0m \u001b[1m14s\u001b[0m 2s/step - accuracy: 0.7371 - loss: 0.5260 - val_accuracy: 0.5556 - val_loss: 0.6844\n",
      "Epoch 10/30\n",
      "\u001b[1m8/8\u001b[0m \u001b[32m━━━━━━━━━━━━━━━━━━━━\u001b[0m\u001b[37m\u001b[0m \u001b[1m14s\u001b[0m 2s/step - accuracy: 0.7429 - loss: 0.5009 - val_accuracy: 0.5556 - val_loss: 0.6839\n",
      "Epoch 11/30\n",
      "\u001b[1m8/8\u001b[0m \u001b[32m━━━━━━━━━━━━━━━━━━━━\u001b[0m\u001b[37m\u001b[0m \u001b[1m14s\u001b[0m 2s/step - accuracy: 0.7430 - loss: 0.5120 - val_accuracy: 0.5556 - val_loss: 0.6836\n",
      "Epoch 12/30\n",
      "\u001b[1m8/8\u001b[0m \u001b[32m━━━━━━━━━━━━━━━━━━━━\u001b[0m\u001b[37m\u001b[0m \u001b[1m14s\u001b[0m 2s/step - accuracy: 0.7696 - loss: 0.4755 - val_accuracy: 0.5556 - val_loss: 0.6834\n",
      "Epoch 13/30\n",
      "\u001b[1m8/8\u001b[0m \u001b[32m━━━━━━━━━━━━━━━━━━━━\u001b[0m\u001b[37m\u001b[0m \u001b[1m14s\u001b[0m 2s/step - accuracy: 0.7798 - loss: 0.4613 - val_accuracy: 0.5556 - val_loss: 0.6828\n",
      "Epoch 14/30\n",
      "\u001b[1m8/8\u001b[0m \u001b[32m━━━━━━━━━━━━━━━━━━━━\u001b[0m\u001b[37m\u001b[0m \u001b[1m14s\u001b[0m 2s/step - accuracy: 0.7957 - loss: 0.4355 - val_accuracy: 0.5556 - val_loss: 0.6819\n",
      "Epoch 15/30\n",
      "\u001b[1m8/8\u001b[0m \u001b[32m━━━━━━━━━━━━━━━━━━━━\u001b[0m\u001b[37m\u001b[0m \u001b[1m14s\u001b[0m 2s/step - accuracy: 0.7864 - loss: 0.4383 - val_accuracy: 0.5556 - val_loss: 0.6817\n",
      "Epoch 16/30\n",
      "\u001b[1m8/8\u001b[0m \u001b[32m━━━━━━━━━━━━━━━━━━━━\u001b[0m\u001b[37m\u001b[0m \u001b[1m14s\u001b[0m 2s/step - accuracy: 0.8141 - loss: 0.4108 - val_accuracy: 0.5556 - val_loss: 0.6813\n",
      "Epoch 17/30\n",
      "\u001b[1m8/8\u001b[0m \u001b[32m━━━━━━━━━━━━━━━━━━━━\u001b[0m\u001b[37m\u001b[0m \u001b[1m14s\u001b[0m 2s/step - accuracy: 0.8155 - loss: 0.4066 - val_accuracy: 0.5556 - val_loss: 0.6806\n",
      "Epoch 18/30\n",
      "\u001b[1m8/8\u001b[0m \u001b[32m━━━━━━━━━━━━━━━━━━━━\u001b[0m\u001b[37m\u001b[0m \u001b[1m14s\u001b[0m 2s/step - accuracy: 0.8166 - loss: 0.4002 - val_accuracy: 0.5556 - val_loss: 0.6802\n",
      "Epoch 19/30\n",
      "\u001b[1m8/8\u001b[0m \u001b[32m━━━━━━━━━━━━━━━━━━━━\u001b[0m\u001b[37m\u001b[0m \u001b[1m14s\u001b[0m 2s/step - accuracy: 0.8165 - loss: 0.4068 - val_accuracy: 0.5556 - val_loss: 0.6804\n",
      "Epoch 20/30\n",
      "\u001b[1m8/8\u001b[0m \u001b[32m━━━━━━━━━━━━━━━━━━━━\u001b[0m\u001b[37m\u001b[0m \u001b[1m14s\u001b[0m 2s/step - accuracy: 0.8268 - loss: 0.3989 - val_accuracy: 0.5556 - val_loss: 0.6788\n",
      "Epoch 21/30\n",
      "\u001b[1m8/8\u001b[0m \u001b[32m━━━━━━━━━━━━━━━━━━━━\u001b[0m\u001b[37m\u001b[0m \u001b[1m14s\u001b[0m 2s/step - accuracy: 0.8286 - loss: 0.3857 - val_accuracy: 0.5556 - val_loss: 0.6788\n",
      "Epoch 22/30\n",
      "\u001b[1m8/8\u001b[0m \u001b[32m━━━━━━━━━━━━━━━━━━━━\u001b[0m\u001b[37m\u001b[0m \u001b[1m14s\u001b[0m 2s/step - accuracy: 0.8471 - loss: 0.3681 - val_accuracy: 0.5550 - val_loss: 0.6778\n",
      "Epoch 23/30\n",
      "\u001b[1m8/8\u001b[0m \u001b[32m━━━━━━━━━━━━━━━━━━━━\u001b[0m\u001b[37m\u001b[0m \u001b[1m14s\u001b[0m 2s/step - accuracy: 0.8403 - loss: 0.3647 - val_accuracy: 0.5579 - val_loss: 0.6769\n",
      "Epoch 24/30\n",
      "\u001b[1m8/8\u001b[0m \u001b[32m━━━━━━━━━━━━━━━━━━━━\u001b[0m\u001b[37m\u001b[0m \u001b[1m14s\u001b[0m 2s/step - accuracy: 0.8490 - loss: 0.3530 - val_accuracy: 0.5772 - val_loss: 0.6761\n",
      "Epoch 25/30\n",
      "\u001b[1m8/8\u001b[0m \u001b[32m━━━━━━━━━━━━━━━━━━━━\u001b[0m\u001b[37m\u001b[0m \u001b[1m14s\u001b[0m 2s/step - accuracy: 0.8523 - loss: 0.3459 - val_accuracy: 0.6234 - val_loss: 0.6761\n",
      "Epoch 26/30\n",
      "\u001b[1m8/8\u001b[0m \u001b[32m━━━━━━━━━━━━━━━━━━━━\u001b[0m\u001b[37m\u001b[0m \u001b[1m14s\u001b[0m 2s/step - accuracy: 0.8607 - loss: 0.3456 - val_accuracy: 0.6322 - val_loss: 0.6765\n",
      "Epoch 27/30\n",
      "\u001b[1m8/8\u001b[0m \u001b[32m━━━━━━━━━━━━━━━━━━━━\u001b[0m\u001b[37m\u001b[0m \u001b[1m14s\u001b[0m 2s/step - accuracy: 0.8696 - loss: 0.3220 - val_accuracy: 0.6275 - val_loss: 0.6743\n",
      "Epoch 28/30\n",
      "\u001b[1m8/8\u001b[0m \u001b[32m━━━━━━━━━━━━━━━━━━━━\u001b[0m\u001b[37m\u001b[0m \u001b[1m14s\u001b[0m 2s/step - accuracy: 0.8698 - loss: 0.3256 - val_accuracy: 0.6263 - val_loss: 0.6737\n",
      "Epoch 29/30\n",
      "\u001b[1m8/8\u001b[0m \u001b[32m━━━━━━━━━━━━━━━━━━━━\u001b[0m\u001b[37m\u001b[0m \u001b[1m14s\u001b[0m 2s/step - accuracy: 0.8634 - loss: 0.3239 - val_accuracy: 0.6409 - val_loss: 0.6730\n",
      "Epoch 30/30\n",
      "\u001b[1m8/8\u001b[0m \u001b[32m━━━━━━━━━━━━━━━━━━━━\u001b[0m\u001b[37m\u001b[0m \u001b[1m14s\u001b[0m 2s/step - accuracy: 0.8680 - loss: 0.3207 - val_accuracy: 0.6322 - val_loss: 0.6713\n"
     ]
    },
    {
     "data": {
      "text/plain": [
       "<keras.src.callbacks.history.History at 0x1552f88ed7d0>"
      ]
     },
     "execution_count": 6,
     "metadata": {},
     "output_type": "execute_result"
    }
   ],
   "source": [
    "\n",
    "model = create_model()\n",
    "\n",
    "early_stop = callbacks.EarlyStopping(\n",
    "    monitor = 'val_loss',\n",
    "    patience = 6,\n",
    "    restore_best_weights=True\n",
    ")\n",
    "model.fit(\n",
    "    X_train, \n",
    "    y_train,    \n",
    "    epochs=30,\n",
    "    steps_per_epoch=8,\n",
    "    validation_data = (X_val, y_val),\n",
    "    callbacks=[early_stop]\n",
    ")"
   ]
  },
  {
   "cell_type": "markdown",
   "id": "fd248063",
   "metadata": {},
   "source": [
    "# Predict on data"
   ]
  },
  {
   "cell_type": "code",
   "execution_count": 7,
   "id": "3968739c",
   "metadata": {},
   "outputs": [
    {
     "name": "stdout",
     "output_type": "stream",
     "text": [
      "\u001b[1m416/416\u001b[0m \u001b[32m━━━━━━━━━━━━━━━━━━━━\u001b[0m\u001b[37m\u001b[0m \u001b[1m6s\u001b[0m 14ms/step\n"
     ]
    }
   ],
   "source": [
    "y_pred = model.predict(X_test)\n",
    "\n",
    "# Convert probabilities to binary predictions (0 or 1)\n",
    "y_pred = (y_pred > 0.5).astype(int).flatten()"
   ]
  },
  {
   "cell_type": "code",
   "execution_count": 8,
   "id": "4d66fa05",
   "metadata": {},
   "outputs": [
    {
     "name": "stdout",
     "output_type": "stream",
     "text": [
      "\n",
      "Classification Report:\n",
      "               precision    recall  f1-score   support\n",
      "\n",
      "           0       0.16      0.65      0.26      1298\n",
      "           1       0.94      0.64      0.76     12008\n",
      "\n",
      "    accuracy                           0.64     13306\n",
      "   macro avg       0.55      0.64      0.51     13306\n",
      "weighted avg       0.87      0.64      0.71     13306\n",
      "\n",
      "F1 Score (Spoof as Positive): 0.7595\n",
      "Accuracy Score (Spoof as Positive): 0.6370\n",
      "Recall Score (Spoof as Positive): 0.6352\n",
      "Precision Score (Spoof as Positive): 0.9444\n"
     ]
    }
   ],
   "source": [
    "from sklearn.metrics import confusion_matrix, ConfusionMatrixDisplay, classification_report, f1_score, precision_score, recall_score, accuracy_score\n",
    "\n",
    "\n",
    "print(\"\\nClassification Report:\\n\", classification_report(y_test, y_pred, zero_division=1))\n",
    "f1 = f1_score(y_test, y_pred)\n",
    "print(f\"F1 Score (Spoof as Positive): {f1:.4f}\")\n",
    "\n",
    "acc = accuracy_score(y_test, y_pred)\n",
    "print(f\"Accuracy Score (Spoof as Positive): {acc:.4f}\")\n",
    "\n",
    "recall = recall_score(y_test, y_pred)\n",
    "print(f\"Recall Score (Spoof as Positive): {recall:.4f}\")\n",
    "\n",
    "precision = precision_score(y_test, y_pred)\n",
    "print(f\"Precision Score (Spoof as Positive): {precision:.4f}\")"
   ]
  },
  {
   "cell_type": "code",
   "execution_count": 9,
   "id": "a5682477",
   "metadata": {},
   "outputs": [
    {
     "data": {
      "image/png": "[encoded data removed]",
      "text/plain": [
       "<Figure size 800x600 with 1 Axes>"
      ]
     },
     "metadata": {},
     "output_type": "display_data"
    }
   ],
   "source": [
    "from sklearn.metrics import roc_curve, auc\n",
    "import matplotlib.pyplot as plt\n",
    "\n",
    "# Flatten if needed\n",
    "y_test_flat = y_test.ravel()\n",
    "y_pred_probs_flat = y_pred.ravel()\n",
    "\n",
    "# Get FPR, TPR, thresholds\n",
    "fpr, tpr, thresholds = roc_curve(y_test_flat, y_pred_probs_flat)\n",
    "\n",
    "# Area Under Curve (AUC)\n",
    "roc_auc = auc(fpr, tpr)\n",
    "\n",
    "# Plot\n",
    "plt.figure(figsize=(8, 6))\n",
    "plt.plot(fpr, tpr, color='blue', lw=2, label=f'ROC Curve (AUC = {roc_auc:.2f})')\n",
    "plt.plot([0, 1], [0, 1], color='gray', linestyle='--', label='Random Chance')\n",
    "plt.xlim([0.0, 1.0])\n",
    "plt.ylim([0.0, 1.05])\n",
    "plt.xlabel('False Positive Rate (FPR)')\n",
    "plt.ylabel('True Positive Rate (TPR)')\n",
    "plt.title('Receiver Operating Characteristic (ROC) Curve')\n",
    "plt.legend(loc='lower right')\n",
    "plt.grid(True)\n",
    "plt.show()\n"
   ]
  }
 ],
 "metadata": {
  "kernelspec": {
   "display_name": "my_env",
   "language": "python",
   "name": "python3"
  },
  "language_info": {
   "codemirror_mode": {
    "name": "ipython",
    "version": 3
   },
   "file_extension": ".py",
   "mimetype": "text/x-python",
   "name": "python",
   "nbconvert_exporter": "python",
   "pygments_lexer": "ipython3",
   "version": "3.11.12"
  }
 },
 "nbformat": 4,
 "nbformat_minor": 5
}
